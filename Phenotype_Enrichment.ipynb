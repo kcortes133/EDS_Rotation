{
 "cells": [
  {
   "cell_type": "markdown",
   "metadata": {
    "collapsed": true,
    "pycharm": {
     "name": "#%% md\n"
    }
   },
   "source": [
    "## Perform enrichment test using phenotype ontology\n",
    "\n",
    "Given a file of genes:\n",
    "\n",
    "```\n",
    "$ head data/rp-genes.tsv\n",
    "NCBIGene:6295   SAG\n",
    "NCBIGene:1258   CNGB1\n",
    "NCBIGene:3614   IMPDH1\n",
    "NCBIGene:26121  PRPF31\n",
    "```\n",
    "\n",
    "The example file here is derived from a Monarch query for all retinitis pigmentosa genes.\n",
    "\n",
    "We want to test each class in HPO to see if it is enriched for genes in this set.\n",
    "\n",
    "First we need to parse the gene Ids in the file"
   ]
  },
  {
   "cell_type": "code",
   "execution_count": 1,
   "metadata": {
    "pycharm": {
     "name": "#%%\n"
    }
   },
   "outputs": [
    {
     "name": "stdout",
     "output_type": "stream",
     "text": [
      "Collecting ontobio\r\n",
      "  Using cached ontobio-2.8.3-py3-none-any.whl (310 kB)\r\n",
      "Collecting matplotlib>=2.0.0\r\n",
      "  Using cached matplotlib-3.5.3-cp38-cp38-macosx_10_9_x86_64.whl (7.3 MB)\r\n",
      "Collecting pytest-logging>=0.0\r\n",
      "  Using cached pytest_logging-2015.11.4-py3-none-any.whl\r\n",
      "Collecting jsobject>=0.0\r\n",
      "  Using cached jsobject-0.10.2-py3-none-any.whl\r\n",
      "Collecting pandas>=0.0\r\n",
      "  Downloading pandas-1.4.4-cp38-cp38-macosx_10_9_x86_64.whl (11.4 MB)\r\n",
      "\u001B[2K     \u001B[90m━━━━━━━━━━━━━━━━━━━━━━━━━━━━━━━━━━━━━━━━\u001B[0m \u001B[32m11.4/11.4 MB\u001B[0m \u001B[31m32.7 MB/s\u001B[0m eta \u001B[36m0:00:00\u001B[0m00:01\u001B[0m00:01\u001B[0m\r\n",
      "\u001B[?25hCollecting pyyaml\r\n",
      "  Using cached PyYAML-6.0-cp38-cp38-macosx_10_9_x86_64.whl (192 kB)\r\n",
      "Collecting pytest>=0.0\r\n",
      "  Downloading pytest-7.1.3-py3-none-any.whl (298 kB)\r\n",
      "\u001B[2K     \u001B[90m━━━━━━━━━━━━━━━━━━━━━━━━━━━━━━━━━━━━━━\u001B[0m \u001B[32m298.2/298.2 kB\u001B[0m \u001B[31m21.3 MB/s\u001B[0m eta \u001B[36m0:00:00\u001B[0m\r\n",
      "\u001B[?25hCollecting pysolr\r\n",
      "  Using cached pysolr-3.9.0-py2.py3-none-any.whl\r\n",
      "Collecting prefixcommons>=0.1.9\r\n",
      "  Using cached prefixcommons-0.1.12-py3-none-any.whl (29 kB)\r\n",
      "Collecting dacite>=1.6.0\r\n",
      "  Using cached dacite-1.6.0-py3-none-any.whl (12 kB)\r\n",
      "Collecting python-dateutil\r\n",
      "  Using cached python_dateutil-2.8.2-py2.py3-none-any.whl (247 kB)\r\n",
      "Collecting wheel>0.25.0\r\n",
      "  Using cached wheel-0.37.1-py2.py3-none-any.whl (35 kB)\r\n",
      "Collecting dataclasses\r\n",
      "  Using cached dataclasses-0.6-py3-none-any.whl (14 kB)\r\n",
      "Collecting scipy>=1.2.0\r\n",
      "  Using cached scipy-1.9.1-cp38-cp38-macosx_12_0_universal2.macosx_10_9_x86_64.whl (58.1 MB)\r\n",
      "Collecting SPARQLWrapper>=1.8.0\r\n",
      "  Using cached SPARQLWrapper-2.0.0-py3-none-any.whl (28 kB)\r\n",
      "Collecting yamldown>=0.1.7\r\n",
      "  Using cached yamldown-0.1.8-py3-none-any.whl (4.1 kB)\r\n",
      "Collecting plotly>=2.0.7\r\n",
      "  Using cached plotly-5.10.0-py2.py3-none-any.whl (15.2 MB)\r\n",
      "Collecting PyShEx>=0.7.11\r\n",
      "  Using cached PyShEx-0.8.1-py3-none-any.whl (51 kB)\r\n",
      "Collecting marshmallow<4.0,>=3.0.0b11\r\n",
      "  Downloading marshmallow-3.18.0-py3-none-any.whl (48 kB)\r\n",
      "\u001B[2K     \u001B[90m━━━━━━━━━━━━━━━━━━━━━━━━━━━━━━━━━━━━━━━━\u001B[0m \u001B[32m48.8/48.8 kB\u001B[0m \u001B[31m5.0 MB/s\u001B[0m eta \u001B[36m0:00:00\u001B[0m\r\n",
      "\u001B[?25hCollecting chardet\r\n",
      "  Using cached chardet-5.0.0-py3-none-any.whl (193 kB)\r\n",
      "Collecting pyparsing==2.4.7\r\n",
      "  Using cached pyparsing-2.4.7-py2.py3-none-any.whl (67 kB)\r\n",
      "Collecting bidict>=0.20.0\r\n",
      "  Using cached bidict-0.22.0-py3-none-any.whl (36 kB)\r\n",
      "Collecting pip>=9.0.1\r\n",
      "  Using cached pip-22.2.2-py3-none-any.whl (2.0 MB)\r\n",
      "Collecting jsonpickle>=0.0\r\n",
      "  Using cached jsonpickle-2.2.0-py2.py3-none-any.whl (39 kB)\r\n",
      "Collecting jsonpath-rw>=0.0\r\n",
      "  Using cached jsonpath_rw-1.4.0-py3-none-any.whl\r\n",
      "Collecting diskcache>=4.0.0\r\n",
      "  Using cached diskcache-5.4.0-py3-none-any.whl (44 kB)\r\n",
      "Collecting networkx>=2.3\r\n",
      "  Using cached networkx-2.8.6-py3-none-any.whl (2.0 MB)\r\n",
      "Collecting twine\r\n",
      "  Using cached twine-4.0.1-py3-none-any.whl (36 kB)\r\n",
      "Collecting requests>=0.0\r\n",
      "  Using cached requests-2.28.1-py3-none-any.whl (62 kB)\r\n",
      "Collecting pydotplus>=0.0\r\n",
      "  Using cached pydotplus-2.0.2-py3-none-any.whl\r\n",
      "Collecting click\r\n",
      "  Using cached click-8.1.3-py3-none-any.whl (96 kB)\r\n",
      "Collecting decorator\r\n",
      "  Using cached decorator-5.1.1-py3-none-any.whl (9.1 kB)\r\n",
      "Collecting six\r\n",
      "  Using cached six-1.16.0-py2.py3-none-any.whl (11 kB)\r\n",
      "Collecting ply\r\n",
      "  Using cached ply-3.11-py2.py3-none-any.whl (49 kB)\r\n",
      "Collecting packaging>=17.0\r\n",
      "  Using cached packaging-21.3-py3-none-any.whl (40 kB)\r\n",
      "Collecting pillow>=6.2.0\r\n",
      "  Using cached Pillow-9.2.0-cp38-cp38-macosx_10_10_x86_64.whl (3.1 MB)\r\n",
      "Collecting cycler>=0.10\r\n",
      "  Using cached cycler-0.11.0-py3-none-any.whl (6.4 kB)\r\n",
      "Collecting kiwisolver>=1.0.1\r\n",
      "  Using cached kiwisolver-1.4.4-cp38-cp38-macosx_10_9_x86_64.whl (65 kB)\r\n",
      "Collecting fonttools>=4.22.0\r\n",
      "  Downloading fonttools-4.37.2-py3-none-any.whl (959 kB)\r\n",
      "\u001B[2K     \u001B[90m━━━━━━━━━━━━━━━━━━━━━━━━━━━━━━━━━━━━━━\u001B[0m \u001B[32m959.8/959.8 kB\u001B[0m \u001B[31m34.1 MB/s\u001B[0m eta \u001B[36m0:00:00\u001B[0m\r\n",
      "\u001B[?25hCollecting numpy>=1.17\r\n",
      "  Downloading numpy-1.23.3-cp38-cp38-macosx_10_9_x86_64.whl (18.1 MB)\r\n",
      "\u001B[2K     \u001B[90m━━━━━━━━━━━━━━━━━━━━━━━━━━━━━━━━━━━━━━━━\u001B[0m \u001B[32m18.1/18.1 MB\u001B[0m \u001B[31m34.9 MB/s\u001B[0m eta \u001B[36m0:00:00\u001B[0m00:01\u001B[0m00:01\u001B[0m\r\n",
      "\u001B[?25hCollecting pytz>=2020.1\r\n",
      "  Using cached pytz-2022.2.1-py2.py3-none-any.whl (500 kB)\r\n",
      "Collecting tenacity>=6.2.0\r\n",
      "  Using cached tenacity-8.0.1-py3-none-any.whl (24 kB)\r\n",
      "Collecting urllib3\r\n",
      "  Using cached urllib3-1.26.12-py2.py3-none-any.whl (140 kB)\r\n",
      "Collecting rdflib-shim\r\n",
      "  Using cached rdflib_shim-1.0.3-py3-none-any.whl (5.2 kB)\r\n",
      "Collecting cfgraph>=0.2.1\r\n",
      "  Using cached CFGraph-0.2.1-py3-none-any.whl\r\n",
      "Collecting sparqlslurper>=0.5.1\r\n",
      "  Using cached sparqlslurper-0.5.1-py3-none-any.whl (6.6 kB)\r\n",
      "Collecting pyshexc==0.9.1\r\n",
      "  Using cached PyShExC-0.9.1-py2.py3-none-any.whl (69 kB)\r\n",
      "Collecting shexjsg>=0.8.2\r\n",
      "  Using cached ShExJSG-0.8.2-py2.py3-none-any.whl (14 kB)\r\n",
      "Collecting antlr4-python3-runtime~=4.9.3\r\n",
      "  Using cached antlr4_python3_runtime-4.9.3-py3-none-any.whl\r\n",
      "Collecting jsonasobj>=1.2.1\r\n",
      "  Using cached jsonasobj-1.3.1-py3-none-any.whl (4.4 kB)\r\n",
      "Collecting pyjsg>=0.11.10\r\n",
      "  Using cached PyJSG-0.11.10-py3-none-any.whl (80 kB)\r\n",
      "Collecting attrs>=19.2.0\r\n",
      "  Using cached attrs-22.1.0-py2.py3-none-any.whl (58 kB)\r\n",
      "Collecting iniconfig\r\n",
      "  Using cached iniconfig-1.1.1-py2.py3-none-any.whl (5.0 kB)\r\n",
      "Collecting pluggy<2.0,>=0.12\r\n",
      "  Using cached pluggy-1.0.0-py2.py3-none-any.whl (13 kB)\r\n",
      "Collecting tomli>=1.0.0\r\n",
      "  Using cached tomli-2.0.1-py3-none-any.whl (12 kB)\r\n",
      "Collecting py>=1.8.2\r\n",
      "  Using cached py-1.11.0-py2.py3-none-any.whl (98 kB)\r\n",
      "Collecting charset-normalizer<3,>=2\r\n",
      "  Using cached charset_normalizer-2.1.1-py3-none-any.whl (39 kB)\r\n",
      "Collecting certifi>=2017.4.17\r\n",
      "  Downloading certifi-2022.9.14-py3-none-any.whl (162 kB)\r\n",
      "\u001B[2K     \u001B[90m━━━━━━━━━━━━━━━━━━━━━━━━━━━━━━━━━━━━━━\u001B[0m \u001B[32m162.5/162.5 kB\u001B[0m \u001B[31m19.5 MB/s\u001B[0m eta \u001B[36m0:00:00\u001B[0m\r\n",
      "\u001B[?25hCollecting idna<4,>=2.5\r\n",
      "  Downloading idna-3.4-py3-none-any.whl (61 kB)\r\n",
      "\u001B[2K     \u001B[90m━━━━━━━━━━━━━━━━━━━━━━━━━━━━━━━━━━━━━━━━\u001B[0m \u001B[32m61.5/61.5 kB\u001B[0m \u001B[31m7.0 MB/s\u001B[0m eta \u001B[36m0:00:00\u001B[0m\r\n",
      "\u001B[?25hCollecting rdflib>=6.1.1\r\n",
      "  Using cached rdflib-6.2.0-py3-none-any.whl (500 kB)\r\n",
      "Collecting requests-toolbelt!=0.9.0,>=0.8.0\r\n",
      "  Using cached requests_toolbelt-0.9.1-py2.py3-none-any.whl (54 kB)\r\n",
      "Collecting keyring>=15.1\r\n",
      "  Downloading keyring-23.9.1-py3-none-any.whl (35 kB)\r\n",
      "Collecting pkginfo>=1.8.1\r\n",
      "  Using cached pkginfo-1.8.3-py2.py3-none-any.whl (26 kB)\r\n",
      "Collecting readme-renderer>=35.0\r\n",
      "  Downloading readme_renderer-37.1-py3-none-any.whl (14 kB)\r\n",
      "Collecting rich>=12.0.0\r\n",
      "  Using cached rich-12.5.1-py3-none-any.whl (235 kB)\r\n",
      "Collecting rfc3986>=1.4.0\r\n",
      "  Using cached rfc3986-2.0.0-py2.py3-none-any.whl (31 kB)\r\n",
      "Collecting importlib-metadata>=3.6\r\n",
      "  Using cached importlib_metadata-4.12.0-py3-none-any.whl (21 kB)\r\n",
      "Collecting zipp>=0.5\r\n",
      "  Using cached zipp-3.8.1-py3-none-any.whl (5.6 kB)\r\n",
      "Collecting jaraco.classes\r\n",
      "  Downloading jaraco.classes-3.2.2-py3-none-any.whl (6.0 kB)\r\n",
      "Collecting setuptools\r\n",
      "  Using cached setuptools-65.3.0-py3-none-any.whl (1.2 MB)\r\n",
      "Collecting isodate\r\n",
      "  Using cached isodate-0.6.1-py2.py3-none-any.whl (41 kB)\r\n",
      "Collecting Pygments>=2.5.1\r\n",
      "  Using cached Pygments-2.13.0-py3-none-any.whl (1.1 MB)\r\n",
      "Collecting docutils>=0.13.1\r\n",
      "  Using cached docutils-0.19-py3-none-any.whl (570 kB)\r\n",
      "Collecting bleach>=2.1.0\r\n",
      "  Using cached bleach-5.0.1-py3-none-any.whl (160 kB)\r\n",
      "Collecting typing-extensions<5.0,>=4.0.0\r\n",
      "  Using cached typing_extensions-4.3.0-py3-none-any.whl (25 kB)\r\n",
      "Collecting commonmark<0.10.0,>=0.9.0\r\n",
      "  Using cached commonmark-0.9.1-py2.py3-none-any.whl (51 kB)\r\n",
      "Collecting rdflib-jsonld==0.6.1\r\n",
      "  Using cached rdflib_jsonld-0.6.1-py2.py3-none-any.whl (16 kB)\r\n",
      "Collecting webencodings\r\n",
      "  Using cached webencodings-0.5.1-py2.py3-none-any.whl (11 kB)\r\n",
      "Collecting more-itertools\r\n",
      "  Downloading more_itertools-8.14.0-py3-none-any.whl (52 kB)\r\n",
      "\u001B[2K     \u001B[90m━━━━━━━━━━━━━━━━━━━━━━━━━━━━━━━━━━━━━━━━\u001B[0m \u001B[32m52.2/52.2 kB\u001B[0m \u001B[31m5.1 MB/s\u001B[0m eta \u001B[36m0:00:00\u001B[0m\r\n",
      "\u001B[?25hInstalling collected packages: webencodings, pytz, ply, jsonasobj, jsobject, iniconfig, dataclasses, commonmark, antlr4-python3-runtime, zipp, wheel, urllib3, typing-extensions, tomli, tenacity, six, setuptools, rfc3986, pyyaml, pyparsing, pyjsg, Pygments, py, pluggy, pkginfo, pip, pillow, numpy, networkx, more-itertools, kiwisolver, jsonpickle, idna, fonttools, docutils, diskcache, decorator, dacite, cycler, click, charset-normalizer, chardet, certifi, bidict, attrs, yamldown, shexjsg, scipy, rich, requests, python-dateutil, pydotplus, plotly, packaging, jsonpath-rw, jaraco.classes, isodate, importlib-metadata, bleach, requests-toolbelt, readme-renderer, rdflib, pytest, pysolr, pandas, matplotlib, marshmallow, keyring, twine, SPARQLWrapper, rdflib-jsonld, pytest-logging, cfgraph, rdflib-shim, prefixcommons, sparqlslurper, pyshexc, PyShEx, ontobio\r\n",
      "  Attempting uninstall: webencodings\r\n",
      "    Found existing installation: webencodings 0.5.1\r\n",
      "    Uninstalling webencodings-0.5.1:\r\n",
      "      Successfully uninstalled webencodings-0.5.1\r\n",
      "  Attempting uninstall: pytz\r\n",
      "    Found existing installation: pytz 2022.2.1\r\n",
      "    Uninstalling pytz-2022.2.1:\r\n",
      "      Successfully uninstalled pytz-2022.2.1\r\n",
      "  Attempting uninstall: ply\r\n",
      "    Found existing installation: ply 3.11\r\n",
      "    Uninstalling ply-3.11:\r\n",
      "      Successfully uninstalled ply-3.11\r\n",
      "  Attempting uninstall: jsonasobj\r\n",
      "    Found existing installation: jsonasobj 1.3.1\r\n",
      "    Uninstalling jsonasobj-1.3.1:\r\n",
      "      Successfully uninstalled jsonasobj-1.3.1\r\n",
      "  Attempting uninstall: jsobject\r\n",
      "    Found existing installation: jsobject 0.10.2\r\n",
      "    Uninstalling jsobject-0.10.2:\r\n",
      "      Successfully uninstalled jsobject-0.10.2\r\n",
      "  Attempting uninstall: iniconfig\r\n",
      "    Found existing installation: iniconfig 1.1.1\r\n",
      "    Uninstalling iniconfig-1.1.1:\r\n",
      "      Successfully uninstalled iniconfig-1.1.1\r\n",
      "  Attempting uninstall: dataclasses\r\n",
      "    Found existing installation: dataclasses 0.6\r\n",
      "    Uninstalling dataclasses-0.6:\r\n",
      "      Successfully uninstalled dataclasses-0.6\r\n",
      "  Attempting uninstall: commonmark\r\n",
      "    Found existing installation: commonmark 0.9.1\r\n",
      "    Uninstalling commonmark-0.9.1:\r\n",
      "      Successfully uninstalled commonmark-0.9.1\r\n",
      "  Attempting uninstall: antlr4-python3-runtime\r\n",
      "    Found existing installation: antlr4-python3-runtime 4.9.3\r\n",
      "    Uninstalling antlr4-python3-runtime-4.9.3:\r\n",
      "      Successfully uninstalled antlr4-python3-runtime-4.9.3\r\n",
      "  Attempting uninstall: zipp\r\n",
      "    Found existing installation: zipp 3.8.1\r\n",
      "    Uninstalling zipp-3.8.1:\r\n",
      "      Successfully uninstalled zipp-3.8.1\r\n",
      "  Attempting uninstall: wheel\r\n",
      "    Found existing installation: wheel 0.37.1\r\n",
      "    Uninstalling wheel-0.37.1:\r\n",
      "      Successfully uninstalled wheel-0.37.1\r\n",
      "  Attempting uninstall: urllib3\r\n",
      "    Found existing installation: urllib3 1.26.12\r\n",
      "    Uninstalling urllib3-1.26.12:\r\n",
      "      Successfully uninstalled urllib3-1.26.12\r\n",
      "  Attempting uninstall: typing-extensions\r\n",
      "    Found existing installation: typing_extensions 4.3.0\r\n",
      "    Uninstalling typing_extensions-4.3.0:\r\n",
      "      Successfully uninstalled typing_extensions-4.3.0\r\n",
      "  Attempting uninstall: tomli\r\n",
      "    Found existing installation: tomli 2.0.1\r\n",
      "    Uninstalling tomli-2.0.1:\r\n",
      "      Successfully uninstalled tomli-2.0.1\r\n",
      "  Attempting uninstall: tenacity\r\n",
      "    Found existing installation: tenacity 8.0.1\r\n",
      "    Uninstalling tenacity-8.0.1:\r\n",
      "      Successfully uninstalled tenacity-8.0.1\r\n",
      "  Attempting uninstall: six\r\n",
      "    Found existing installation: six 1.16.0\r\n",
      "    Uninstalling six-1.16.0:\r\n",
      "      Successfully uninstalled six-1.16.0\r\n",
      "  Attempting uninstall: setuptools\r\n",
      "    Found existing installation: setuptools 65.3.0\r\n",
      "    Uninstalling setuptools-65.3.0:\r\n",
      "      Successfully uninstalled setuptools-65.3.0\r\n",
      "  Attempting uninstall: rfc3986\r\n",
      "    Found existing installation: rfc3986 2.0.0\r\n",
      "    Uninstalling rfc3986-2.0.0:\r\n",
      "      Successfully uninstalled rfc3986-2.0.0\r\n",
      "  Attempting uninstall: pyyaml\r\n",
      "    Found existing installation: PyYAML 6.0\r\n",
      "    Uninstalling PyYAML-6.0:\r\n",
      "      Successfully uninstalled PyYAML-6.0\r\n",
      "  Attempting uninstall: pyparsing\r\n",
      "    Found existing installation: pyparsing 2.4.7\r\n",
      "    Uninstalling pyparsing-2.4.7:\r\n",
      "      Successfully uninstalled pyparsing-2.4.7\r\n",
      "  Attempting uninstall: pyjsg\r\n",
      "    Found existing installation: PyJSG 0.11.10\r\n",
      "    Uninstalling PyJSG-0.11.10:\r\n",
      "      Successfully uninstalled PyJSG-0.11.10\r\n",
      "  Attempting uninstall: Pygments\r\n",
      "    Found existing installation: Pygments 2.13.0\r\n",
      "    Uninstalling Pygments-2.13.0:\r\n",
      "      Successfully uninstalled Pygments-2.13.0\r\n",
      "  Attempting uninstall: py\r\n",
      "    Found existing installation: py 1.11.0\r\n",
      "    Uninstalling py-1.11.0:\r\n",
      "      Successfully uninstalled py-1.11.0\r\n",
      "  Attempting uninstall: pluggy\r\n",
      "    Found existing installation: pluggy 1.0.0\r\n",
      "    Uninstalling pluggy-1.0.0:\r\n",
      "      Successfully uninstalled pluggy-1.0.0\r\n",
      "  Attempting uninstall: pkginfo\r\n",
      "    Found existing installation: pkginfo 1.8.3\r\n",
      "    Uninstalling pkginfo-1.8.3:\r\n",
      "      Successfully uninstalled pkginfo-1.8.3\r\n",
      "  Attempting uninstall: pip\r\n",
      "    Found existing installation: pip 22.2.2\r\n",
      "    Uninstalling pip-22.2.2:\r\n",
      "      Successfully uninstalled pip-22.2.2\r\n",
      "  Attempting uninstall: pillow\r\n",
      "    Found existing installation: Pillow 9.2.0\r\n",
      "    Uninstalling Pillow-9.2.0:\r\n",
      "      Successfully uninstalled Pillow-9.2.0\r\n",
      "  Attempting uninstall: numpy\r\n",
      "    Found existing installation: numpy 1.23.2\r\n",
      "    Uninstalling numpy-1.23.2:\r\n",
      "      Successfully uninstalled numpy-1.23.2\r\n",
      "  Attempting uninstall: networkx\r\n",
      "    Found existing installation: networkx 2.8.6\r\n",
      "    Uninstalling networkx-2.8.6:\r\n",
      "      Successfully uninstalled networkx-2.8.6\r\n",
      "  Attempting uninstall: kiwisolver\r\n",
      "    Found existing installation: kiwisolver 1.4.4\r\n",
      "    Uninstalling kiwisolver-1.4.4:\r\n",
      "      Successfully uninstalled kiwisolver-1.4.4\r\n",
      "  Attempting uninstall: jsonpickle\r\n",
      "    Found existing installation: jsonpickle 2.2.0\r\n",
      "    Uninstalling jsonpickle-2.2.0:\r\n",
      "      Successfully uninstalled jsonpickle-2.2.0\r\n",
      "  Attempting uninstall: idna\r\n",
      "    Found existing installation: idna 3.3\r\n",
      "    Uninstalling idna-3.3:\r\n",
      "      Successfully uninstalled idna-3.3\r\n",
      "  Attempting uninstall: fonttools\r\n",
      "    Found existing installation: fonttools 4.37.1\r\n",
      "    Uninstalling fonttools-4.37.1:\r\n",
      "      Successfully uninstalled fonttools-4.37.1\r\n",
      "  Attempting uninstall: docutils\r\n",
      "    Found existing installation: docutils 0.19\r\n",
      "    Uninstalling docutils-0.19:\r\n",
      "      Successfully uninstalled docutils-0.19\r\n",
      "  Attempting uninstall: diskcache\r\n",
      "    Found existing installation: diskcache 5.4.0\r\n",
      "    Uninstalling diskcache-5.4.0:\r\n",
      "      Successfully uninstalled diskcache-5.4.0\r\n",
      "  Attempting uninstall: decorator\r\n",
      "    Found existing installation: decorator 5.1.1\r\n",
      "    Uninstalling decorator-5.1.1:\r\n",
      "      Successfully uninstalled decorator-5.1.1\r\n",
      "  Attempting uninstall: dacite\r\n",
      "    Found existing installation: dacite 1.6.0\r\n",
      "    Uninstalling dacite-1.6.0:\r\n",
      "      Successfully uninstalled dacite-1.6.0\r\n",
      "  Attempting uninstall: cycler\r\n",
      "    Found existing installation: cycler 0.11.0\r\n",
      "    Uninstalling cycler-0.11.0:\r\n",
      "      Successfully uninstalled cycler-0.11.0\r\n",
      "  Attempting uninstall: click\r\n",
      "    Found existing installation: click 8.1.3\r\n",
      "    Uninstalling click-8.1.3:\r\n",
      "      Successfully uninstalled click-8.1.3\r\n",
      "  Attempting uninstall: charset-normalizer\r\n",
      "    Found existing installation: charset-normalizer 2.1.1\r\n",
      "    Uninstalling charset-normalizer-2.1.1:\r\n",
      "      Successfully uninstalled charset-normalizer-2.1.1\r\n",
      "  Attempting uninstall: chardet\r\n",
      "    Found existing installation: chardet 5.0.0\r\n",
      "    Uninstalling chardet-5.0.0:\r\n",
      "      Successfully uninstalled chardet-5.0.0\r\n",
      "  Attempting uninstall: certifi\r\n",
      "    Found existing installation: certifi 2022.6.15\r\n",
      "    Uninstalling certifi-2022.6.15:\r\n",
      "      Successfully uninstalled certifi-2022.6.15\r\n",
      "  Attempting uninstall: bidict\r\n",
      "    Found existing installation: bidict 0.22.0\r\n",
      "    Uninstalling bidict-0.22.0:\r\n",
      "      Successfully uninstalled bidict-0.22.0\r\n",
      "  Attempting uninstall: attrs\r\n",
      "    Found existing installation: attrs 22.1.0\r\n",
      "    Uninstalling attrs-22.1.0:\r\n",
      "      Successfully uninstalled attrs-22.1.0\r\n",
      "  Attempting uninstall: yamldown\r\n",
      "    Found existing installation: yamldown 0.1.8\r\n",
      "    Uninstalling yamldown-0.1.8:\r\n",
      "      Successfully uninstalled yamldown-0.1.8\r\n",
      "  Attempting uninstall: shexjsg\r\n",
      "    Found existing installation: ShExJSG 0.8.2\r\n",
      "    Uninstalling ShExJSG-0.8.2:\r\n",
      "      Successfully uninstalled ShExJSG-0.8.2\r\n",
      "  Attempting uninstall: scipy\r\n",
      "    Found existing installation: scipy 1.9.0\r\n",
      "    Uninstalling scipy-1.9.0:\r\n",
      "      Successfully uninstalled scipy-1.9.0\r\n",
      "  Attempting uninstall: rich\r\n",
      "    Found existing installation: rich 12.5.1\r\n",
      "    Uninstalling rich-12.5.1:\r\n",
      "      Successfully uninstalled rich-12.5.1\r\n",
      "  Attempting uninstall: requests\r\n",
      "    Found existing installation: requests 2.28.1\r\n",
      "    Uninstalling requests-2.28.1:\r\n",
      "      Successfully uninstalled requests-2.28.1\r\n",
      "  Attempting uninstall: python-dateutil\r\n",
      "    Found existing installation: python-dateutil 2.8.2\r\n",
      "    Uninstalling python-dateutil-2.8.2:\r\n",
      "      Successfully uninstalled python-dateutil-2.8.2\r\n",
      "  Attempting uninstall: pydotplus\r\n",
      "    Found existing installation: pydotplus 2.0.2\r\n",
      "    Uninstalling pydotplus-2.0.2:\r\n",
      "      Successfully uninstalled pydotplus-2.0.2\r\n",
      "  Attempting uninstall: plotly\r\n",
      "    Found existing installation: plotly 5.10.0\r\n",
      "    Uninstalling plotly-5.10.0:\r\n",
      "      Successfully uninstalled plotly-5.10.0\r\n",
      "  Attempting uninstall: packaging\r\n",
      "    Found existing installation: packaging 21.3\r\n",
      "    Uninstalling packaging-21.3:\r\n",
      "      Successfully uninstalled packaging-21.3\r\n",
      "  Attempting uninstall: jsonpath-rw\r\n",
      "    Found existing installation: jsonpath-rw 1.4.0\r\n",
      "    Uninstalling jsonpath-rw-1.4.0:\r\n",
      "      Successfully uninstalled jsonpath-rw-1.4.0\r\n",
      "  Attempting uninstall: isodate\r\n",
      "    Found existing installation: isodate 0.6.1\r\n",
      "    Uninstalling isodate-0.6.1:\r\n",
      "      Successfully uninstalled isodate-0.6.1\r\n",
      "  Attempting uninstall: importlib-metadata\r\n",
      "    Found existing installation: importlib-metadata 4.12.0\r\n",
      "    Uninstalling importlib-metadata-4.12.0:\r\n",
      "      Successfully uninstalled importlib-metadata-4.12.0\r\n",
      "  Attempting uninstall: bleach\r\n",
      "    Found existing installation: bleach 5.0.1\r\n",
      "    Uninstalling bleach-5.0.1:\r\n",
      "      Successfully uninstalled bleach-5.0.1\r\n",
      "  Attempting uninstall: requests-toolbelt\r\n",
      "    Found existing installation: requests-toolbelt 0.9.1\r\n",
      "    Uninstalling requests-toolbelt-0.9.1:\r\n",
      "      Successfully uninstalled requests-toolbelt-0.9.1\r\n",
      "  Attempting uninstall: readme-renderer\r\n",
      "    Found existing installation: readme-renderer 37.0\r\n",
      "    Uninstalling readme-renderer-37.0:\r\n",
      "      Successfully uninstalled readme-renderer-37.0\r\n",
      "  Attempting uninstall: rdflib\r\n",
      "    Found existing installation: rdflib 6.2.0\r\n",
      "    Uninstalling rdflib-6.2.0:\r\n",
      "      Successfully uninstalled rdflib-6.2.0\r\n",
      "  Attempting uninstall: pytest\r\n",
      "    Found existing installation: pytest 7.1.2\r\n",
      "    Uninstalling pytest-7.1.2:\r\n",
      "      Successfully uninstalled pytest-7.1.2\r\n",
      "  Attempting uninstall: pysolr\r\n",
      "    Found existing installation: pysolr 3.9.0\r\n",
      "    Uninstalling pysolr-3.9.0:\r\n",
      "      Successfully uninstalled pysolr-3.9.0\r\n",
      "  Attempting uninstall: pandas\r\n",
      "    Found existing installation: pandas 1.4.3\r\n",
      "    Uninstalling pandas-1.4.3:\r\n",
      "      Successfully uninstalled pandas-1.4.3\r\n",
      "  Attempting uninstall: matplotlib\r\n",
      "    Found existing installation: matplotlib 3.5.3\r\n",
      "    Uninstalling matplotlib-3.5.3:\r\n",
      "      Successfully uninstalled matplotlib-3.5.3\r\n",
      "  Attempting uninstall: marshmallow\r\n",
      "    Found existing installation: marshmallow 3.17.1\r\n",
      "    Uninstalling marshmallow-3.17.1:\r\n",
      "      Successfully uninstalled marshmallow-3.17.1\r\n",
      "  Attempting uninstall: keyring\r\n",
      "    Found existing installation: keyring 23.8.2\r\n",
      "    Uninstalling keyring-23.8.2:\r\n",
      "      Successfully uninstalled keyring-23.8.2\r\n",
      "  Attempting uninstall: twine\r\n",
      "    Found existing installation: twine 4.0.1\r\n",
      "    Uninstalling twine-4.0.1:\r\n",
      "      Successfully uninstalled twine-4.0.1\r\n",
      "  Attempting uninstall: SPARQLWrapper\r\n",
      "    Found existing installation: SPARQLWrapper 2.0.0\r\n",
      "    Uninstalling SPARQLWrapper-2.0.0:\r\n",
      "      Successfully uninstalled SPARQLWrapper-2.0.0\r\n",
      "  Attempting uninstall: rdflib-jsonld\r\n",
      "    Found existing installation: rdflib-jsonld 0.6.1\r\n",
      "    Uninstalling rdflib-jsonld-0.6.1:\r\n",
      "      Successfully uninstalled rdflib-jsonld-0.6.1\r\n",
      "  Attempting uninstall: pytest-logging\r\n",
      "    Found existing installation: pytest-logging 2015.11.4\r\n",
      "    Uninstalling pytest-logging-2015.11.4:\r\n",
      "      Successfully uninstalled pytest-logging-2015.11.4\r\n",
      "  Attempting uninstall: cfgraph\r\n",
      "    Found existing installation: CFGraph 0.2.1\r\n",
      "    Uninstalling CFGraph-0.2.1:\r\n",
      "      Successfully uninstalled CFGraph-0.2.1\r\n",
      "  Attempting uninstall: rdflib-shim\r\n",
      "    Found existing installation: rdflib-shim 1.0.3\r\n",
      "    Uninstalling rdflib-shim-1.0.3:\r\n",
      "      Successfully uninstalled rdflib-shim-1.0.3\r\n",
      "  Attempting uninstall: prefixcommons\r\n",
      "    Found existing installation: prefixcommons 0.1.12\r\n",
      "    Uninstalling prefixcommons-0.1.12:\r\n",
      "      Successfully uninstalled prefixcommons-0.1.12\r\n",
      "  Attempting uninstall: sparqlslurper\r\n",
      "    Found existing installation: sparqlslurper 0.5.1\r\n",
      "    Uninstalling sparqlslurper-0.5.1:\r\n",
      "      Successfully uninstalled sparqlslurper-0.5.1\r\n",
      "  Attempting uninstall: pyshexc\r\n",
      "    Found existing installation: PyShExC 0.9.1\r\n",
      "    Uninstalling PyShExC-0.9.1:\r\n",
      "      Successfully uninstalled PyShExC-0.9.1\r\n",
      "  Attempting uninstall: PyShEx\r\n",
      "    Found existing installation: PyShEx 0.8.1\r\n",
      "    Uninstalling PyShEx-0.8.1:\r\n",
      "      Successfully uninstalled PyShEx-0.8.1\r\n",
      "  Attempting uninstall: ontobio\r\n",
      "    Found existing installation: ontobio 2.8.3\r\n",
      "    Uninstalling ontobio-2.8.3:\r\n",
      "      Successfully uninstalled ontobio-2.8.3\r\n",
      "\u001B[31mERROR: pip's dependency resolver does not currently take into account all the packages that are installed. This behaviour is the source of the following dependency conflicts.\r\n",
      "pronto 2.5.0 requires chardet<5.0,>=3.0, but you have chardet 5.0.0 which is incompatible.\r\n",
      "myst-parser 0.18.0 requires docutils<0.19,>=0.15, but you have docutils 0.19 which is incompatible.\r\n",
      "linkml-runtime 1.3.1 requires prefixcommons==0.1.11, but you have prefixcommons 0.1.12 which is incompatible.\u001B[0m\u001B[31m\r\n",
      "\u001B[0mSuccessfully installed PyShEx-0.8.1 Pygments-2.13.0 SPARQLWrapper-2.0.0 antlr4-python3-runtime-4.9.3 attrs-22.1.0 bidict-0.22.0 bleach-5.0.1 certifi-2022.9.14 cfgraph-0.2.1 chardet-5.0.0 charset-normalizer-2.1.1 click-8.1.3 commonmark-0.9.1 cycler-0.11.0 dacite-1.6.0 dataclasses-0.6 decorator-5.1.1 diskcache-5.4.0 docutils-0.19 fonttools-4.37.2 idna-3.4 importlib-metadata-4.12.0 iniconfig-1.1.1 isodate-0.6.1 jaraco.classes-3.2.2 jsobject-0.10.2 jsonasobj-1.3.1 jsonpath-rw-1.4.0 jsonpickle-2.2.0 keyring-23.9.1 kiwisolver-1.4.4 marshmallow-3.18.0 matplotlib-3.5.3 more-itertools-8.14.0 networkx-2.8.6 numpy-1.23.3 ontobio-2.8.3 packaging-21.3 pandas-1.4.4 pillow-9.2.0 pip-22.2.2 pkginfo-1.8.3 plotly-5.10.0 pluggy-1.0.0 ply-3.11 prefixcommons-0.1.12 py-1.11.0 pydotplus-2.0.2 pyjsg-0.11.10 pyparsing-2.4.7 pyshexc-0.9.1 pysolr-3.9.0 pytest-7.1.3 pytest-logging-2015.11.4 python-dateutil-2.8.2 pytz-2022.2.1 pyyaml-6.0 rdflib-6.2.0 rdflib-jsonld-0.6.1 rdflib-shim-1.0.3 readme-renderer-37.1 requests-2.28.1 requests-toolbelt-0.9.1 rfc3986-2.0.0 rich-12.5.1 scipy-1.9.1 setuptools-65.3.0 shexjsg-0.8.2 six-1.16.0 sparqlslurper-0.5.1 tenacity-8.0.1 tomli-2.0.1 twine-4.0.1 typing-extensions-4.3.0 urllib3-1.26.12 webencodings-0.5.1 wheel-0.37.1 yamldown-0.1.8 zipp-3.8.1\r\n"
     ]
    }
   ],
   "source": [
    "!pip install --upgrade --force-reinstall ontobio"
   ]
  },
  {
   "cell_type": "code",
   "execution_count": 2,
   "metadata": {
    "pycharm": {
     "name": "#%%\n"
    }
   },
   "outputs": [
    {
     "data": {
      "text/plain": "['NCBIGene:6295',\n 'NCBIGene:1258',\n 'NCBIGene:3614',\n 'NCBIGene:26121',\n 'NCBIGene:7275',\n 'NCBIGene:55857',\n 'NCBIGene:79797',\n 'NCBIGene:10594',\n 'NCBIGene:64218',\n 'NCBIGene:7401']"
     },
     "execution_count": 2,
     "metadata": {},
     "output_type": "execute_result"
    }
   ],
   "source": [
    "## Parse ids from file\n",
    "file = open(\"rp-genes.tsv\", \"r\")\n",
    "gene_ids = [row.split(\"\\t\")[0] for row in file]\n",
    "\n",
    "## show first 10 IDs:\n",
    "gene_ids[:10]"
   ]
  },
  {
   "cell_type": "code",
   "execution_count": 3,
   "metadata": {
    "pycharm": {
     "name": "#%%\n"
    }
   },
   "outputs": [
    {
     "data": {
      "text/plain": "h:hp g:MultiDiGraph with 31649 nodes and 63349 edges"
     },
     "execution_count": 3,
     "metadata": {},
     "output_type": "execute_result"
    }
   ],
   "source": [
    "## Create an ontology factory in order to fetch HPO\n",
    "from ontobio.ontol_factory import OntologyFactory\n",
    "\n",
    "ofactory = OntologyFactory()\n",
    "ont = ofactory.create(\"hp\")  \n",
    "## Load HP. Note the first time this runs Jupyter will show '*' - be patient\n",
    "ont\n"
   ]
  },
  {
   "cell_type": "code",
   "execution_count": 4,
   "metadata": {
    "pycharm": {
     "name": "#%%\n"
    }
   },
   "outputs": [
    {
     "data": {
      "text/plain": "<ontobio.assocmodel.AssociationSet at 0x10a20edc0>"
     },
     "execution_count": 4,
     "metadata": {},
     "output_type": "execute_result"
    }
   ],
   "source": [
    "## Create an association factory to get gene-phenotype associations\n",
    "from ontobio.config import session\n",
    "\n",
    "from ontobio.assoc_factory import AssociationSetFactory\n",
    "afactory = AssociationSetFactory()\n",
    "## Load Associations from Monarch. Note the first time this runs Jupyter will show '*' - be patient\n",
    "aset = afactory.create(ontology=ont, subject_category='gene', object_category='phenotype', taxon='NCBITaxon:9606')\n",
    "aset"
   ]
  },
  {
   "cell_type": "code",
   "execution_count": 5,
   "metadata": {
    "pycharm": {
     "name": "#%%\n"
    }
   },
   "outputs": [],
   "source": [
    "## Run enrichment tests using all classes in ontology\n",
    "enr = aset.enrichment_test(subjects=gene_ids, threshold=0.00005, labels=True)"
   ]
  },
  {
   "cell_type": "code",
   "execution_count": 6,
   "metadata": {
    "pycharm": {
     "name": "#%%\n"
    }
   },
   "outputs": [
    {
     "name": "stdout",
     "output_type": "stream",
     "text": [
      "[]\n"
     ]
    }
   ],
   "source": [
    "## Show first 20 results\n",
    "print(enr)\n",
    "for r in enr[:20]:\n",
    "    print(r)\n",
    "    print(\"{:8.3g} {} {:40s}\".format(r['p'],r['c'],str(r['n'])))\n"
   ]
  },
  {
   "cell_type": "markdown",
   "metadata": {
    "pycharm": {
     "name": "#%% md\n"
    }
   },
   "source": [
    "Given that the initial gene set is for retinitis pigmentosa genes, it's not surprising that enriched phenotype\n",
    "terms are related to retinal degeneration"
   ]
  },
  {
   "cell_type": "markdown",
   "metadata": {
    "pycharm": {
     "name": "#%% md\n"
    }
   },
   "source": [
    "## Viewing Results\n",
    "\n",
    "We can use different visualization options to see the enriched terms. First we will show a simple tree view\n"
   ]
  },
  {
   "cell_type": "code",
   "execution_count": 7,
   "metadata": {
    "pycharm": {
     "name": "#%%\n"
    }
   },
   "outputs": [],
   "source": [
    "## Get all enriched class Ids\n",
    "terms = [r['c'] for r in enr]"
   ]
  },
  {
   "cell_type": "code",
   "execution_count": 8,
   "metadata": {
    "pycharm": {
     "name": "#%%\n"
    }
   },
   "outputs": [],
   "source": [
    "## Create a minimal slim of HPO consisting of enriched terms,\n",
    "## with non-informative intermediate nodes removed\n",
    "from ontobio.slimmer import get_minimal_subgraph\n",
    "g = get_minimal_subgraph(ont.get_graph(), terms)"
   ]
  },
  {
   "cell_type": "code",
   "execution_count": 9,
   "metadata": {
    "pycharm": {
     "name": "#%%\n"
    }
   },
   "outputs": [
    {
     "ename": "ModuleNotFoundError",
     "evalue": "No module named 'ontobio.graph_io'",
     "output_type": "error",
     "traceback": [
      "\u001B[0;31m---------------------------------------------------------------------------\u001B[0m",
      "\u001B[0;31mModuleNotFoundError\u001B[0m                       Traceback (most recent call last)",
      "Input \u001B[0;32mIn [9]\u001B[0m, in \u001B[0;36m<cell line: 2>\u001B[0;34m()\u001B[0m\n\u001B[1;32m      1\u001B[0m \u001B[38;5;66;03m## Render as ascii-tree\u001B[39;00m\n\u001B[0;32m----> 2\u001B[0m \u001B[38;5;28;01mfrom\u001B[39;00m \u001B[38;5;21;01montobio\u001B[39;00m\u001B[38;5;21;01m.\u001B[39;00m\u001B[38;5;21;01mgraph_io\u001B[39;00m \u001B[38;5;28;01mimport\u001B[39;00m GraphRenderer\n\u001B[1;32m      3\u001B[0m w \u001B[38;5;241m=\u001B[39m GraphRenderer\u001B[38;5;241m.\u001B[39mcreate(\u001B[38;5;124m'\u001B[39m\u001B[38;5;124mtree\u001B[39m\u001B[38;5;124m'\u001B[39m)\n\u001B[1;32m      4\u001B[0m w\u001B[38;5;241m.\u001B[39mwrite(g, query_ids\u001B[38;5;241m=\u001B[39mterms)\n",
      "\u001B[0;31mModuleNotFoundError\u001B[0m: No module named 'ontobio.graph_io'"
     ]
    }
   ],
   "source": [
    "## Render as ascii-tree\n",
    "from ontobio.graph_io import GraphRenderer\n",
    "w = GraphRenderer.create('tree')\n",
    "w.write(g, query_ids=terms)"
   ]
  },
  {
   "cell_type": "markdown",
   "metadata": {
    "pycharm": {
     "name": "#%% md\n"
    }
   },
   "source": [
    "## visualization\n",
    "\n",
    "Now we will show enriched terms in a graph using graphviz"
   ]
  },
  {
   "cell_type": "code",
   "execution_count": null,
   "metadata": {
    "pycharm": {
     "name": "#%%\n"
    }
   },
   "outputs": [],
   "source": [
    "terms = [r['c'] for r in enr[:30]]\n",
    "g = get_minimal_subgraph(ont.get_graph(), terms)\n",
    "w = GraphRenderer.create('png')\n",
    "w.outfile = \"output/enr.png\"\n",
    "w.write(g, query_ids=terms)"
   ]
  },
  {
   "cell_type": "markdown",
   "metadata": {
    "pycharm": {
     "name": "#%% md\n"
    }
   },
   "source": [
    "## Image\n",
    "\n",
    "![title](output/enr.png)"
   ]
  },
  {
   "cell_type": "code",
   "execution_count": null,
   "metadata": {
    "pycharm": {
     "name": "#%%\n"
    }
   },
   "outputs": [],
   "source": []
  }
 ],
 "metadata": {
  "kernelspec": {
   "display_name": "Python 3 (ipykernel)",
   "language": "python",
   "name": "python3"
  },
  "language_info": {
   "codemirror_mode": {
    "name": "ipython",
    "version": 3
   },
   "file_extension": ".py",
   "mimetype": "text/x-python",
   "name": "python",
   "nbconvert_exporter": "python",
   "pygments_lexer": "ipython3",
   "version": "3.8.9"
  }
 },
 "nbformat": 4,
 "nbformat_minor": 2
}
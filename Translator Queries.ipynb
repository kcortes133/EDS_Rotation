{
 "cells": [
  {
   "cell_type": "code",
   "execution_count": 42,
   "id": "f3c0689f",
   "metadata": {
    "pycharm": {
     "name": "#%%\n"
    }
   },
   "outputs": [
    {
     "name": "stdout",
     "output_type": "stream",
     "text": [
      "Requirement already satisfied: requests in ./venv/lib/python3.8/site-packages (2.28.1)\r\n",
      "Requirement already satisfied: charset-normalizer<3,>=2 in ./venv/lib/python3.8/site-packages (from requests) (2.1.1)\r\n",
      "Requirement already satisfied: certifi>=2017.4.17 in ./venv/lib/python3.8/site-packages (from requests) (2022.9.14)\r\n",
      "Requirement already satisfied: idna<4,>=2.5 in ./venv/lib/python3.8/site-packages (from requests) (3.4)\r\n",
      "Requirement already satisfied: urllib3<1.27,>=1.21.1 in ./venv/lib/python3.8/site-packages (from requests) (1.26.12)\r\n"
     ]
    }
   ],
   "source": [
    "!pip install requests"
   ]
  },
  {
   "cell_type": "code",
   "execution_count": 43,
   "id": "579956be",
   "metadata": {
    "pycharm": {
     "name": "#%%\n"
    }
   },
   "outputs": [],
   "source": [
    "import requests\n",
    "from collections import Counter"
   ]
  },
  {
   "cell_type": "code",
   "execution_count": 44,
   "id": "6d4b3221",
   "metadata": {
    "pycharm": {
     "name": "#%%\n"
    }
   },
   "outputs": [],
   "source": [
    "def getPhenotypes(url, gene):\n",
    "    url = url.format(gene)\n",
    "    d = requests.get(url).json()\n",
    "    phenotypes = []\n",
    "    for i in d['associations']:\n",
    "        phenotypes.append(i['object']['id'])\n",
    "    return phenotypes"
   ]
  },
  {
   "cell_type": "code",
   "execution_count": 45,
   "id": "bec7908a",
   "metadata": {
    "pycharm": {
     "name": "#%%\n"
    }
   },
   "outputs": [],
   "source": [
    "def getAssociations(url, gene):\n",
    "    url = url.format(gene)\n",
    "    d = requests.get(url).json()\n",
    "    assocs = []\n",
    "    for i in d['associations']:\n",
    "        assocs.append(i['object']['id'])\n",
    "    return assocs"
   ]
  },
  {
   "cell_type": "code",
   "execution_count": 46,
   "id": "afa2ee1f",
   "metadata": {
    "pycharm": {
     "name": "#%%\n"
    }
   },
   "outputs": [],
   "source": [
    "genes = ['HGNC:17111',\n",
    " 'HGNC:1366',\n",
    " 'HGNC:11133',\n",
    " 'HGNC:1160',\n",
    " 'HGNC:17109',\n",
    " 'HGNC:7223',\n",
    " 'HGNC:219',\n",
    " 'HGNC:13202',\n",
    " 'HGNC:2860',\n",
    " 'HGNC:7224',\n",
    " 'HGNC:445',\n",
    " 'HGNC:9081',\n",
    " 'HGNC:15492',\n",
    " 'HGNC:17870',\n",
    " 'HGNC:9364',\n",
    " 'HGNC:2037',\n",
    " 'HGNC:2073',\n",
    " 'HGNC:360',\n",
    " 'HGNC:9023',\n",
    " 'HGNC:2201']"
   ]
  },
  {
   "cell_type": "code",
   "execution_count": 47,
   "id": "4e83a431",
   "metadata": {
    "pycharm": {
     "name": "#%%\n"
    }
   },
   "outputs": [],
   "source": [
    "import matplotlib.pyplot as plt"
   ]
  },
  {
   "cell_type": "code",
   "execution_count": 48,
   "id": "b81759c4",
   "metadata": {
    "pycharm": {
     "name": "#%%\n"
    }
   },
   "outputs": [],
   "source": [
    "def plotTopResults(allResults):\n",
    "    counts1 = Counter(allResults)\n",
    "    counts = {k: v for k, v in counts1.items() if int(v)> 1}\n",
    "    counts = dict(sorted(counts.items(), key=lambda item: item[1], reverse=False)[:15])\n",
    "\n",
    "    names = list(counts.keys())\n",
    "    values = list(counts.values())\n",
    "    names\n",
    "    plt.bar(range(len(counts)), values)\n",
    "    plt.xticks(range(len(counts)), names, rotation='vertical')\n",
    "    plt.show()"
   ]
  },
  {
   "cell_type": "code",
   "execution_count": 49,
   "id": "6dfbb5d8",
   "metadata": {
    "pycharm": {
     "name": "#%%\n"
    }
   },
   "outputs": [],
   "source": [
    "monarchURL = 'https://api.monarchinitiative.org/api/'\n",
    "phenotypeURL = monarchURL + 'bioentity/gene/{}/phenotypes'\n",
    "anatomyURL = monarchURL + 'bioentity/gene/{}/anatomy'\n",
    "interactionsURL = monarchURL + 'bioentity/gene/{}/interactions'\n",
    "diseaseURL = monarchURL + 'bioentity/gene/{}/diseases'\n"
   ]
  },
  {
   "cell_type": "code",
   "execution_count": 50,
   "id": "324646c1",
   "metadata": {
    "pycharm": {
     "name": "#%%\n"
    }
   },
   "outputs": [],
   "source": [
    "allPhenotypes = []\n",
    "for gene in genes:\n",
    "    phenotypes = getPhenotypes(phenotypeURL, gene)\n",
    "    allPhenotypes.extend(phenotypes)\n",
    "    "
   ]
  },
  {
   "cell_type": "code",
   "execution_count": 51,
   "id": "22d9df45",
   "metadata": {
    "pycharm": {
     "name": "#%%\n"
    }
   },
   "outputs": [
    {
     "data": {
      "text/plain": "<Figure size 432x288 with 1 Axes>",
      "image/png": "[encoded data removed]"
     },
     "metadata": {
      "needs_background": "light"
     },
     "output_type": "display_data"
    }
   ],
   "source": [
    "allDiseases = []\n",
    "for gene in genes:\n",
    "    diseases = getAssociations(diseaseURL, gene)\n",
    "    allDiseases.extend(diseases)\n",
    "plotTopResults(allDiseases)"
   ]
  },
  {
   "cell_type": "code",
   "execution_count": 52,
   "id": "0358970c",
   "metadata": {
    "pycharm": {
     "name": "#%%\n"
    }
   },
   "outputs": [
    {
     "data": {
      "text/plain": "<Figure size 432x288 with 1 Axes>",
      "image/png": "[encoded data removed]"
     },
     "metadata": {
      "needs_background": "light"
     },
     "output_type": "display_data"
    }
   ],
   "source": [
    "allInters = []\n",
    "for gene in genes:\n",
    "    interactions = getAssociations(interactionsURL, gene)\n",
    "    allInters.extend(interactions)\n",
    "\n",
    "plotTopResults(allInters)"
   ]
  },
  {
   "cell_type": "code",
   "execution_count": 52,
   "outputs": [],
   "source": [],
   "metadata": {
    "collapsed": false,
    "pycharm": {
     "name": "#%%\n"
    }
   }
  },
  {
   "cell_type": "code",
   "execution_count": 53,
   "outputs": [
    {
     "data": {
      "text/plain": "<Figure size 432x288 with 1 Axes>",
      "image/png": "[encoded data removed]"
     },
     "metadata": {
      "needs_background": "light"
     },
     "output_type": "display_data"
    }
   ],
   "source": [
    "goAPI = 'http://api.geneontology.org/api'\n",
    "callID = goAPI + '/bioentity/gene/{}/function'\n",
    "allFunctions = []\n",
    "for gene in genes:\n",
    "    fxs = getAssociations(callID, gene)\n",
    "    allFunctions.extend(fxs)\n",
    "\n",
    "plotTopResults(allFunctions)\n"
   ],
   "metadata": {
    "collapsed": false,
    "pycharm": {
     "name": "#%%\n"
    }
   }
  },
  {
   "cell_type": "code",
   "execution_count": 53,
   "outputs": [],
   "source": [],
   "metadata": {
    "collapsed": false,
    "pycharm": {
     "name": "#%%\n"
    }
   }
  }
 ],
 "metadata": {
  "kernelspec": {
   "display_name": "Python 3 (ipykernel)",
   "language": "python",
   "name": "python3"
  },
  "language_info": {
   "codemirror_mode": {
    "name": "ipython",
    "version": 3
   },
   "file_extension": ".py",
   "mimetype": "text/x-python",
   "name": "python",
   "nbconvert_exporter": "python",
   "pygments_lexer": "ipython3",
   "version": "3.8.9"
  }
 },
 "nbformat": 4,
 "nbformat_minor": 5
}
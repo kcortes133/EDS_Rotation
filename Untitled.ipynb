{
 "cells": [
  {
   "cell_type": "code",
   "execution_count": 1,
   "id": "49f212c6",
   "metadata": {
    "pycharm": {
     "name": "#%%\n"
    }
   },
   "outputs": [
    {
     "name": "stdout",
     "output_type": "stream",
     "text": [
      "Requirement already satisfied: oaklib in ./venv/lib/python3.8/site-packages (0.1.2)\n",
      "Requirement already satisfied: nxontology<0.5.0,>=0.4.0 in ./venv/lib/python3.8/site-packages (from oaklib) (0.4.1)\n",
      "Requirement already satisfied: ratelimit<3.0.0,>=2.2.1 in ./venv/lib/python3.8/site-packages (from oaklib) (2.2.1)\n",
      "Requirement already satisfied: SPARQLWrapper<3.0.0,>=2.0.0 in ./venv/lib/python3.8/site-packages (from oaklib) (2.0.0)\n",
      "Requirement already satisfied: linkml-runtime<2.0.0,>=1.2.3 in ./venv/lib/python3.8/site-packages (from oaklib) (1.3.1)\n",
      "Requirement already satisfied: sssom<0.4.0,>=0.3.7 in ./venv/lib/python3.8/site-packages (from oaklib) (0.3.13)\n",
      "Requirement already satisfied: appdirs<2.0.0,>=1.4.4 in ./venv/lib/python3.8/site-packages (from oaklib) (1.4.4)\n",
      "Requirement already satisfied: networkx<3.0.0,>=2.7.1 in ./venv/lib/python3.8/site-packages (from oaklib) (2.8.5)\n",
      "Requirement already satisfied: pronto<3.0.0,>=2.4.4 in ./venv/lib/python3.8/site-packages (from oaklib) (2.5.0)\n",
      "Requirement already satisfied: SQLAlchemy<2.0.0,>=1.4.32 in ./venv/lib/python3.8/site-packages (from oaklib) (1.4.39)\n",
      "Requirement already satisfied: prefixcommons==0.1.11 in ./venv/lib/python3.8/site-packages (from linkml-runtime<2.0.0,>=1.2.3->oaklib) (0.1.11)\n",
      "Requirement already satisfied: hbreader in ./venv/lib/python3.8/site-packages (from linkml-runtime<2.0.0,>=1.2.3->oaklib) (0.9.1)\n",
      "Requirement already satisfied: click in ./venv/lib/python3.8/site-packages (from linkml-runtime<2.0.0,>=1.2.3->oaklib) (8.1.3)\n",
      "Requirement already satisfied: json-flattener>=0.1.9 in ./venv/lib/python3.8/site-packages (from linkml-runtime<2.0.0,>=1.2.3->oaklib) (0.1.9)\n",
      "Requirement already satisfied: jsonschema>=3.2.0 in ./venv/lib/python3.8/site-packages (from linkml-runtime<2.0.0,>=1.2.3->oaklib) (4.9.0)\n",
      "Requirement already satisfied: pyyaml in ./venv/lib/python3.8/site-packages (from linkml-runtime<2.0.0,>=1.2.3->oaklib) (6.0)\n",
      "Requirement already satisfied: deprecated in ./venv/lib/python3.8/site-packages (from linkml-runtime<2.0.0,>=1.2.3->oaklib) (1.2.13)\n",
      "Requirement already satisfied: rdflib>=6.0.0 in ./venv/lib/python3.8/site-packages (from linkml-runtime<2.0.0,>=1.2.3->oaklib) (6.2.0)\n",
      "Requirement already satisfied: requests in ./venv/lib/python3.8/site-packages (from linkml-runtime<2.0.0,>=1.2.3->oaklib) (2.28.1)\n",
      "Requirement already satisfied: jsonasobj2<2.0.0,>=1.0.4 in ./venv/lib/python3.8/site-packages (from linkml-runtime<2.0.0,>=1.2.3->oaklib) (1.0.4)\n",
      "Requirement already satisfied: fsspec[http] in ./venv/lib/python3.8/site-packages (from nxontology<0.5.0,>=0.4.0->oaklib) (2022.7.1)\n",
      "Requirement already satisfied: python-dateutil~=2.8 in ./venv/lib/python3.8/site-packages (from pronto<3.0.0,>=2.4.4->oaklib) (2.8.2)\n",
      "Requirement already satisfied: chardet<5.0,>=3.0 in ./venv/lib/python3.8/site-packages (from pronto<3.0.0,>=2.4.4->oaklib) (4.0.0)\n",
      "Requirement already satisfied: fastobo~=0.12.1 in ./venv/lib/python3.8/site-packages (from pronto<3.0.0,>=2.4.4->oaklib) (0.12.1)\n",
      "Requirement already satisfied: greenlet!=0.4.17 in ./venv/lib/python3.8/site-packages (from SQLAlchemy<2.0.0,>=1.4.32->oaklib) (1.1.2)\n",
      "Requirement already satisfied: pandasql in ./venv/lib/python3.8/site-packages (from sssom<0.4.0,>=0.3.7->oaklib) (0.7.3)\n",
      "Requirement already satisfied: linkml in ./venv/lib/python3.8/site-packages (from sssom<0.4.0,>=0.3.7->oaklib) (1.3.2)\n",
      "Requirement already satisfied: bioregistry in ./venv/lib/python3.8/site-packages (from sssom<0.4.0,>=0.3.7->oaklib) (0.5.54)\n",
      "Requirement already satisfied: pandas in ./venv/lib/python3.8/site-packages (from sssom<0.4.0,>=0.3.7->oaklib) (1.4.3)\n",
      "Requirement already satisfied: validators in ./venv/lib/python3.8/site-packages (from sssom<0.4.0,>=0.3.7->oaklib) (0.20.0)\n",
      "Requirement already satisfied: sssom-schema in ./venv/lib/python3.8/site-packages (from sssom<0.4.0,>=0.3.7->oaklib) (0.9.4)\n",
      "Requirement already satisfied: scipy in ./venv/lib/python3.8/site-packages (from sssom<0.4.0,>=0.3.7->oaklib) (1.9.0)\n",
      "Requirement already satisfied: numpy in ./venv/lib/python3.8/site-packages (from sssom<0.4.0,>=0.3.7->oaklib) (1.23.1)\n",
      "Requirement already satisfied: setuptools in ./venv/lib/python3.8/site-packages (from sssom<0.4.0,>=0.3.7->oaklib) (60.2.0)\n",
      "Requirement already satisfied: deprecation in ./venv/lib/python3.8/site-packages (from sssom<0.4.0,>=0.3.7->oaklib) (2.1.0)\n",
      "Requirement already satisfied: pyparsing==2.4.7 in ./venv/lib/python3.8/site-packages (from sssom<0.4.0,>=0.3.7->oaklib) (2.4.7)\n",
      "Requirement already satisfied: pyrsistent!=0.17.0,!=0.17.1,!=0.17.2,>=0.14.0 in ./venv/lib/python3.8/site-packages (from jsonschema>=3.2.0->linkml-runtime<2.0.0,>=1.2.3->oaklib) (0.18.1)\n",
      "Requirement already satisfied: pkgutil-resolve-name>=1.3.10 in ./venv/lib/python3.8/site-packages (from jsonschema>=3.2.0->linkml-runtime<2.0.0,>=1.2.3->oaklib) (1.3.10)\n",
      "Requirement already satisfied: attrs>=17.4.0 in ./venv/lib/python3.8/site-packages (from jsonschema>=3.2.0->linkml-runtime<2.0.0,>=1.2.3->oaklib) (22.1.0)\n",
      "Requirement already satisfied: importlib-resources>=1.4.0 in ./venv/lib/python3.8/site-packages (from jsonschema>=3.2.0->linkml-runtime<2.0.0,>=1.2.3->oaklib) (5.9.0)\n",
      "Requirement already satisfied: six>=1.5 in ./venv/lib/python3.8/site-packages (from python-dateutil~=2.8->pronto<3.0.0,>=2.4.4->oaklib) (1.16.0)\n",
      "Requirement already satisfied: isodate in ./venv/lib/python3.8/site-packages (from rdflib>=6.0.0->linkml-runtime<2.0.0,>=1.2.3->oaklib) (0.6.1)\n",
      "Requirement already satisfied: certifi>=2017.4.17 in ./venv/lib/python3.8/site-packages (from requests->linkml-runtime<2.0.0,>=1.2.3->oaklib) (2022.6.15)\n",
      "Requirement already satisfied: charset-normalizer<3,>=2 in ./venv/lib/python3.8/site-packages (from requests->linkml-runtime<2.0.0,>=1.2.3->oaklib) (2.1.0)\n",
      "Requirement already satisfied: idna<4,>=2.5 in ./venv/lib/python3.8/site-packages (from requests->linkml-runtime<2.0.0,>=1.2.3->oaklib) (3.3)\n",
      "Requirement already satisfied: urllib3<1.27,>=1.21.1 in ./venv/lib/python3.8/site-packages (from requests->linkml-runtime<2.0.0,>=1.2.3->oaklib) (1.26.11)\n",
      "Requirement already satisfied: decorator>=3.4.0 in ./venv/lib/python3.8/site-packages (from validators->sssom<0.4.0,>=0.3.7->oaklib) (5.1.1)\n",
      "Requirement already satisfied: more-click in ./venv/lib/python3.8/site-packages (from bioregistry->sssom<0.4.0,>=0.3.7->oaklib) (0.1.1)\n",
      "Requirement already satisfied: pydantic in ./venv/lib/python3.8/site-packages (from bioregistry->sssom<0.4.0,>=0.3.7->oaklib) (1.9.1)\n",
      "Requirement already satisfied: pystow>=0.1.13 in ./venv/lib/python3.8/site-packages (from bioregistry->sssom<0.4.0,>=0.3.7->oaklib) (0.4.6)\n",
      "Requirement already satisfied: tqdm in ./venv/lib/python3.8/site-packages (from bioregistry->sssom<0.4.0,>=0.3.7->oaklib) (4.64.0)\n",
      "Requirement already satisfied: wrapt<2,>=1.10 in ./venv/lib/python3.8/site-packages (from deprecated->linkml-runtime<2.0.0,>=1.2.3->oaklib) (1.14.1)\n",
      "Requirement already satisfied: packaging in ./venv/lib/python3.8/site-packages (from deprecation->sssom<0.4.0,>=0.3.7->oaklib) (21.3)\n",
      "Requirement already satisfied: aiohttp in ./venv/lib/python3.8/site-packages (from fsspec[http]->nxontology<0.5.0,>=0.4.0->oaklib) (3.8.1)\n",
      "Requirement already satisfied: pyshexc>=0.8.3 in ./venv/lib/python3.8/site-packages (from linkml->sssom<0.4.0,>=0.3.7->oaklib) (0.9.1)\n",
      "Requirement already satisfied: antlr4-python3-runtime<4.10,>=4.9.0 in ./venv/lib/python3.8/site-packages (from linkml->sssom<0.4.0,>=0.3.7->oaklib) (4.9.3)\n",
      "Requirement already satisfied: watchdog>=0.9.0 in ./venv/lib/python3.8/site-packages (from linkml->sssom<0.4.0,>=0.3.7->oaklib) (2.1.9)\n",
      "Requirement already satisfied: myst-parser in ./venv/lib/python3.8/site-packages (from linkml->sssom<0.4.0,>=0.3.7->oaklib) (0.18.0)\n",
      "Requirement already satisfied: jinja2 in ./venv/lib/python3.8/site-packages (from linkml->sssom<0.4.0,>=0.3.7->oaklib) (3.1.2)\n",
      "Requirement already satisfied: openpyxl in ./venv/lib/python3.8/site-packages (from linkml->sssom<0.4.0,>=0.3.7->oaklib) (3.0.10)\n",
      "Requirement already satisfied: graphviz>=0.10.1 in ./venv/lib/python3.8/site-packages (from linkml->sssom<0.4.0,>=0.3.7->oaklib) (0.20.1)\n",
      "Requirement already satisfied: sphinx-click in ./venv/lib/python3.8/site-packages (from linkml->sssom<0.4.0,>=0.3.7->oaklib) (4.3.0)\n"
     ]
    },
    {
     "name": "stdout",
     "output_type": "stream",
     "text": [
      "Collecting argparse>=1.4.0\n",
      "  Using cached argparse-1.4.0-py2.py3-none-any.whl (23 kB)\n",
      "Requirement already satisfied: linkml-dataops in ./venv/lib/python3.8/site-packages (from linkml->sssom<0.4.0,>=0.3.7->oaklib) (0.1.0)\n",
      "Requirement already satisfied: parse in ./venv/lib/python3.8/site-packages (from linkml->sssom<0.4.0,>=0.3.7->oaklib) (1.19.0)\n",
      "Requirement already satisfied: pyshex>=0.7.20 in ./venv/lib/python3.8/site-packages (from linkml->sssom<0.4.0,>=0.3.7->oaklib) (0.8.1)\n",
      "Requirement already satisfied: pyjsg>=0.11.6 in ./venv/lib/python3.8/site-packages (from linkml->sssom<0.4.0,>=0.3.7->oaklib) (0.11.10)\n",
      "Requirement already satisfied: pytz>=2020.1 in ./venv/lib/python3.8/site-packages (from pandas->sssom<0.4.0,>=0.3.7->oaklib) (2022.1)\n",
      "Requirement already satisfied: zipp>=3.1.0 in ./venv/lib/python3.8/site-packages (from importlib-resources>=1.4.0->jsonschema>=3.2.0->linkml-runtime<2.0.0,>=1.2.3->oaklib) (3.8.1)\n",
      "Requirement already satisfied: jsonasobj>=1.2.1 in ./venv/lib/python3.8/site-packages (from pyjsg>=0.11.6->linkml->sssom<0.4.0,>=0.3.7->oaklib) (1.3.1)\n",
      "Requirement already satisfied: shexjsg>=0.8.2 in ./venv/lib/python3.8/site-packages (from pyshex>=0.7.20->linkml->sssom<0.4.0,>=0.3.7->oaklib) (0.8.2)\n",
      "Requirement already satisfied: cfgraph>=0.2.1 in ./venv/lib/python3.8/site-packages (from pyshex>=0.7.20->linkml->sssom<0.4.0,>=0.3.7->oaklib) (0.2.1)\n",
      "Requirement already satisfied: sparqlslurper>=0.5.1 in ./venv/lib/python3.8/site-packages (from pyshex>=0.7.20->linkml->sssom<0.4.0,>=0.3.7->oaklib) (0.5.1)\n",
      "Requirement already satisfied: rdflib-shim in ./venv/lib/python3.8/site-packages (from pyshex>=0.7.20->linkml->sssom<0.4.0,>=0.3.7->oaklib) (1.0.3)\n",
      "Requirement already satisfied: aiosignal>=1.1.2 in ./venv/lib/python3.8/site-packages (from aiohttp->fsspec[http]->nxontology<0.5.0,>=0.4.0->oaklib) (1.2.0)\n",
      "Requirement already satisfied: yarl<2.0,>=1.0 in ./venv/lib/python3.8/site-packages (from aiohttp->fsspec[http]->nxontology<0.5.0,>=0.4.0->oaklib) (1.8.0)\n",
      "Requirement already satisfied: frozenlist>=1.1.1 in ./venv/lib/python3.8/site-packages (from aiohttp->fsspec[http]->nxontology<0.5.0,>=0.4.0->oaklib) (1.3.0)\n",
      "Requirement already satisfied: async-timeout<5.0,>=4.0.0a3 in ./venv/lib/python3.8/site-packages (from aiohttp->fsspec[http]->nxontology<0.5.0,>=0.4.0->oaklib) (4.0.2)\n",
      "Requirement already satisfied: multidict<7.0,>=4.5 in ./venv/lib/python3.8/site-packages (from aiohttp->fsspec[http]->nxontology<0.5.0,>=0.4.0->oaklib) (6.0.2)\n",
      "Requirement already satisfied: MarkupSafe>=2.0 in ./venv/lib/python3.8/site-packages (from jinja2->linkml->sssom<0.4.0,>=0.3.7->oaklib) (2.1.1)\n",
      "Requirement already satisfied: jsonpath-ng in ./venv/lib/python3.8/site-packages (from linkml-dataops->linkml->sssom<0.4.0,>=0.3.7->oaklib) (1.5.3)\n",
      "Requirement already satisfied: jsonpatch in ./venv/lib/python3.8/site-packages (from linkml-dataops->linkml->sssom<0.4.0,>=0.3.7->oaklib) (1.32)\n",
      "Requirement already satisfied: ruamel.yaml in ./venv/lib/python3.8/site-packages (from linkml-dataops->linkml->sssom<0.4.0,>=0.3.7->oaklib) (0.17.21)\n",
      "Requirement already satisfied: docutils<0.19,>=0.15 in ./venv/lib/python3.8/site-packages (from myst-parser->linkml->sssom<0.4.0,>=0.3.7->oaklib) (0.18.1)\n",
      "Requirement already satisfied: markdown-it-py<3.0.0,>=1.0.0 in ./venv/lib/python3.8/site-packages (from myst-parser->linkml->sssom<0.4.0,>=0.3.7->oaklib) (2.1.0)\n",
      "Requirement already satisfied: mdit-py-plugins~=0.3.0 in ./venv/lib/python3.8/site-packages (from myst-parser->linkml->sssom<0.4.0,>=0.3.7->oaklib) (0.3.0)\n",
      "Requirement already satisfied: typing-extensions in ./venv/lib/python3.8/site-packages (from myst-parser->linkml->sssom<0.4.0,>=0.3.7->oaklib) (4.3.0)\n",
      "Requirement already satisfied: sphinx<6,>=4 in ./venv/lib/python3.8/site-packages (from myst-parser->linkml->sssom<0.4.0,>=0.3.7->oaklib) (5.1.1)\n",
      "Requirement already satisfied: et-xmlfile in ./venv/lib/python3.8/site-packages (from openpyxl->linkml->sssom<0.4.0,>=0.3.7->oaklib) (1.1.0)\n",
      "Requirement already satisfied: mdurl~=0.1 in ./venv/lib/python3.8/site-packages (from markdown-it-py<3.0.0,>=1.0.0->myst-parser->linkml->sssom<0.4.0,>=0.3.7->oaklib) (0.1.1)\n",
      "Requirement already satisfied: importlib-metadata>=4.4 in ./venv/lib/python3.8/site-packages (from sphinx<6,>=4->myst-parser->linkml->sssom<0.4.0,>=0.3.7->oaklib) (4.12.0)\n",
      "Requirement already satisfied: babel>=1.3 in ./venv/lib/python3.8/site-packages (from sphinx<6,>=4->myst-parser->linkml->sssom<0.4.0,>=0.3.7->oaklib) (2.10.3)\n",
      "Requirement already satisfied: sphinxcontrib-htmlhelp>=2.0.0 in ./venv/lib/python3.8/site-packages (from sphinx<6,>=4->myst-parser->linkml->sssom<0.4.0,>=0.3.7->oaklib) (2.0.0)\n",
      "Requirement already satisfied: alabaster<0.8,>=0.7 in ./venv/lib/python3.8/site-packages (from sphinx<6,>=4->myst-parser->linkml->sssom<0.4.0,>=0.3.7->oaklib) (0.7.12)\n",
      "Requirement already satisfied: imagesize in ./venv/lib/python3.8/site-packages (from sphinx<6,>=4->myst-parser->linkml->sssom<0.4.0,>=0.3.7->oaklib) (1.4.1)\n",
      "Requirement already satisfied: sphinxcontrib-devhelp in ./venv/lib/python3.8/site-packages (from sphinx<6,>=4->myst-parser->linkml->sssom<0.4.0,>=0.3.7->oaklib) (1.0.2)\n",
      "Requirement already satisfied: sphinxcontrib-qthelp in ./venv/lib/python3.8/site-packages (from sphinx<6,>=4->myst-parser->linkml->sssom<0.4.0,>=0.3.7->oaklib) (1.0.3)\n",
      "Requirement already satisfied: Pygments>=2.0 in ./venv/lib/python3.8/site-packages (from sphinx<6,>=4->myst-parser->linkml->sssom<0.4.0,>=0.3.7->oaklib) (2.12.0)\n",
      "Requirement already satisfied: sphinxcontrib-applehelp in ./venv/lib/python3.8/site-packages (from sphinx<6,>=4->myst-parser->linkml->sssom<0.4.0,>=0.3.7->oaklib) (1.0.2)\n",
      "Requirement already satisfied: sphinxcontrib-serializinghtml>=1.1.5 in ./venv/lib/python3.8/site-packages (from sphinx<6,>=4->myst-parser->linkml->sssom<0.4.0,>=0.3.7->oaklib) (1.1.5)\n",
      "Requirement already satisfied: snowballstemmer>=1.1 in ./venv/lib/python3.8/site-packages (from sphinx<6,>=4->myst-parser->linkml->sssom<0.4.0,>=0.3.7->oaklib) (2.2.0)\n",
      "Requirement already satisfied: sphinxcontrib-jsmath in ./venv/lib/python3.8/site-packages (from sphinx<6,>=4->myst-parser->linkml->sssom<0.4.0,>=0.3.7->oaklib) (1.0.1)\n",
      "Requirement already satisfied: jsonpointer>=1.9 in ./venv/lib/python3.8/site-packages (from jsonpatch->linkml-dataops->linkml->sssom<0.4.0,>=0.3.7->oaklib) (2.3)\n",
      "Requirement already satisfied: ply in ./venv/lib/python3.8/site-packages (from jsonpath-ng->linkml-dataops->linkml->sssom<0.4.0,>=0.3.7->oaklib) (3.11)\n",
      "Requirement already satisfied: rdflib-jsonld==0.6.1 in ./venv/lib/python3.8/site-packages (from rdflib-shim->pyshex>=0.7.20->linkml->sssom<0.4.0,>=0.3.7->oaklib) (0.6.1)\n",
      "Requirement already satisfied: ruamel.yaml.clib>=0.2.6 in ./venv/lib/python3.8/site-packages (from ruamel.yaml->linkml-dataops->linkml->sssom<0.4.0,>=0.3.7->oaklib) (0.2.6)\n",
      "Installing collected packages: argparse\n",
      "Successfully installed argparse-1.4.0\n",
      "\u001B[33mWARNING: You are using pip version 21.3.1; however, version 22.2.1 is available.\n",
      "You should consider upgrading via the '/Users/cortkath/PycharmProjects/EDS_Rotation/venv/bin/python -m pip install --upgrade pip' command.\u001B[0m\n"
     ]
    }
   ],
   "source": [
    "!pip install oaklib"
   ]
  },
  {
   "cell_type": "code",
   "execution_count": null,
   "id": "694d5d61",
   "metadata": {
    "pycharm": {
     "name": "#%%\n"
    }
   },
   "outputs": [],
   "source": []
  }
 ],
 "metadata": {
  "kernelspec": {
   "display_name": "Python 3 (ipykernel)",
   "language": "python",
   "name": "python3"
  },
  "language_info": {
   "codemirror_mode": {
    "name": "ipython",
    "version": 3
   },
   "file_extension": ".py",
   "mimetype": "text/x-python",
   "name": "python",
   "nbconvert_exporter": "python",
   "pygments_lexer": "ipython3",
   "version": "3.10.5"
  }
 },
 "nbformat": 4,
 "nbformat_minor": 5
}